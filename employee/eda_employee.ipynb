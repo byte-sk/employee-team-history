{
 "cells": [
  {
   "cell_type": "code",
   "execution_count": 1,
   "metadata": {},
   "outputs": [],
   "source": [
    "import pandas\n",
    "from datetime import datetime\n"
   ]
  },
  {
   "cell_type": "markdown",
   "metadata": {},
   "source": [
    "# Prepare"
   ]
  },
  {
   "cell_type": "code",
   "execution_count": 2,
   "metadata": {},
   "outputs": [],
   "source": [
    "def get_employee_data(source_path: str) -> pandas.DataFrame:\n",
    "    \"\"\"Reads employee data from a CSV file and returns it as a DataFrame.\n",
    "\n",
    "    Args:\n",
    "        source_path (str): The path to the CSV file containing employee data.\n",
    "\n",
    "    Returns:\n",
    "        pandas.DataFrame: A DataFrame containing the employee data with the specified schema.\n",
    "\n",
    "    \"\"\"\n",
    "    schema = {\n",
    "        'Emp-id': int,\n",
    "        'Emp-name': str,\n",
    "        'Emp-lastname': str\n",
    "    }\n",
    "    employee_df = pandas.read_csv(filepath_or_buffer=source_path, dtype=schema)\n",
    "    \n",
    "    return employee_df"
   ]
  },
  {
   "cell_type": "code",
   "execution_count": 3,
   "metadata": {},
   "outputs": [],
   "source": [
    "def get_team_data(source_path: str) -> pandas.DataFrame:\n",
    "    \"\"\"Reads team data from a CSV file and returns it as a DataFrame.\n",
    "\n",
    "    Args:\n",
    "        source_path (str): The path to the CSV file containing team data.\n",
    "\n",
    "    Returns:\n",
    "        pandas.DataFrame: A DataFrame containing the team data with the specified schema.\n",
    "    \"\"\"\n",
    "    schema = {\n",
    "        'name': str,\n",
    "        'type': str,\n",
    "        'desc': str\n",
    "    }\n",
    "    team_df = pandas.read_csv(filepath_or_buffer=source_path, dtype=schema)\n",
    "    \n",
    "    return team_df"
   ]
  },
  {
   "cell_type": "code",
   "execution_count": 4,
   "metadata": {},
   "outputs": [],
   "source": [
    "def get_team_history_data(source_path: str) -> pandas.DataFrame:\n",
    "    \"\"\"Reads team history data from a CSV file and returns it as a DataFrame.\n",
    "\n",
    "    Args:\n",
    "        source_path (str): The path to the CSV file containing team history data.\n",
    "\n",
    "    Returns:\n",
    "        pandas.DataFrame: A DataFrame containing the team history data with the specified schema.\n",
    "    \"\"\"\n",
    "    schema = {\n",
    "        'Start-date': str,\n",
    "        'End-date': str,\n",
    "        'type': str,\n",
    "        'team': str,\n",
    "        'Emp-id': int\n",
    "    }\n",
    "    date_columns = ['Start-date', 'End-date']\n",
    "    team_history_df = pandas.read_csv(filepath_or_buffer=source_path, dtype=schema)\n",
    "\n",
    "    for date_column in date_columns:\n",
    "        team_history_df[date_column] = pandas.to_datetime(team_history_df[date_column], format='%Y-%m-%d')\n",
    "\n",
    "    return team_history_df"
   ]
  },
  {
   "cell_type": "code",
   "execution_count": 5,
   "metadata": {},
   "outputs": [],
   "source": [
    "def get_calendar_df(start_date: str, end_date: str) -> pandas.DataFrame:\n",
    "    \"\"\"Generates a DataFrame with a range of dates from start_date to end_date.\n",
    "\n",
    "    Args:\n",
    "        start_date (str): The start date in the format 'YYYY-MM-DD'.\n",
    "        end_date (str): The end date in the format 'YYYY-MM-DD'.\n",
    "\n",
    "    Returns:\n",
    "        pandas.DataFrame: A DataFrame containing a column 'date' with dates from start_date to end_date.\n",
    "    \"\"\"\n",
    "    start_date = datetime.strptime(start_date, \"%Y-%m-%d\")\n",
    "    end_date = datetime.strptime(end_date, \"%Y-%m-%d\")\n",
    "    date_range = pandas.date_range(start_date, end_date)\n",
    "    date_df = pandas.DataFrame({'date': date_range})\n",
    "\n",
    "    return date_df"
   ]
  },
  {
   "cell_type": "code",
   "execution_count": 6,
   "metadata": {},
   "outputs": [],
   "source": [
    "def fill_na_history_df(history_df: pandas.DataFrame) -> pandas.DataFrame:\n",
    "    \"\"\"Fills NA values in the 'End-date' column of the history DataFrame.\n",
    "\n",
    "    The function sorts the DataFrame by 'Emp-id' and 'Start-date' and then fills \n",
    "    the NA values in the 'End-date' column with the value of 'Start-date' of the \n",
    "    next row minus one day.\n",
    "\n",
    "    Args:\n",
    "        history_df (pandas.DataFrame): The history DataFrame with 'Emp-id', 'Start-date', and 'End-date' columns.\n",
    "\n",
    "    Returns:\n",
    "        pandas.DataFrame: The cleaned history DataFrame with NA values in 'End-date' filled.\n",
    "    \"\"\"\n",
    "    cleaned_history_df = history_df.sort_values(by=['Emp-id', 'Start-date'])\n",
    "    cleaned_history_df['End-date'] = cleaned_history_df['End-date'].fillna(\n",
    "        cleaned_history_df['Start-date'].shift(-1) + pandas.Timedelta(days=-1)\n",
    "    )\n",
    "    \n",
    "    return cleaned_history_df"
   ]
  },
  {
   "cell_type": "code",
   "execution_count": 7,
   "metadata": {},
   "outputs": [],
   "source": [
    "def join_employee_team_history_df(\n",
    "    employee_df: pandas.DataFrame, \n",
    "    team_df: pandas.DataFrame, \n",
    "    team_history_df: pandas.DataFrame\n",
    ") -> pandas.DataFrame:\n",
    "    \"\"\"Joins the team history DataFrame with the team DataFrame based on the team name,\n",
    "    and then merges the result with the employee DataFrame based on the employee ID.\n",
    "\n",
    "    Args:\n",
    "        employee_df (pandas.DataFrame): DataFrame containing employee data.\n",
    "        team_df (pandas.DataFrame): DataFrame containing team data.\n",
    "        team_history_df (pandas.DataFrame): DataFrame containing team history data.\n",
    "\n",
    "    Returns:\n",
    "        pandas.DataFrame: A DataFrame containing the merged employee team history.\n",
    "    \"\"\"\n",
    "    detail_team_history_df = team_history_df.merge(team_df, left_on=\"team\", right_on=\"name\")\n",
    "    employee_team_history = detail_team_history_df.merge(employee_df, left_on=\"Emp-id\", right_on=\"Emp-id\")\n",
    "\n",
    "    return employee_team_history"
   ]
  },
  {
   "cell_type": "code",
   "execution_count": 8,
   "metadata": {},
   "outputs": [],
   "source": [
    "def cross_join_date(df: pandas.DataFrame, date_df: pandas.DataFrame) -> pandas.DataFrame:\n",
    "    \"\"\"Performs a cross join between the given DataFrame and a date DataFrame.\n",
    "\n",
    "    Args:\n",
    "        df (pandas.DataFrame): The DataFrame to be cross-joined with the date DataFrame.\n",
    "        date_df (pandas.DataFrame): The date DataFrame to be cross-joined with the given DataFrame.\n",
    "\n",
    "    Returns:\n",
    "        pandas.DataFrame: A DataFrame resulting from the cross join of the input DataFrames.\n",
    "    \"\"\"\n",
    "    df['key'] = 0\n",
    "    date_df['key'] = 0\n",
    "    cross_date_df = date_df.merge(df, how='outer', on='key').drop(columns='key', axis=1)\n",
    "    \n",
    "    return cross_date_df"
   ]
  },
  {
   "cell_type": "code",
   "execution_count": 9,
   "metadata": {},
   "outputs": [],
   "source": [
    "def filter_date_between_start_end(df: pandas.DataFrame) -> pandas.DataFrame:\n",
    "    \"\"\"Filters the DataFrame to include only rows where the date is between Start-date and End-date.\n",
    "\n",
    "    Args:\n",
    "        df (pandas.DataFrame): The input DataFrame containing 'date', 'Start-date', and 'End-date' columns.\n",
    "\n",
    "    Returns:\n",
    "        pandas.DataFrame: A DataFrame containing only the rows where 'date' is between 'Start-date' and 'End-date'.\n",
    "    \"\"\"\n",
    "    filtered_df = df[(df['date'] >= df['Start-date']) & (df['date'] <= df['End-date'])]\n",
    "    \n",
    "    return filtered_df"
   ]
  },
  {
   "cell_type": "code",
   "execution_count": 10,
   "metadata": {},
   "outputs": [],
   "source": [
    "def display_result_df(df: pandas.DataFrame) -> pandas.DataFrame:\n",
    "    \"\"\"Displays and returns the result DataFrame with selected columns.\n",
    "\n",
    "    The function selects specific columns, sorts the DataFrame by 'date' and 'Emp-id', \n",
    "    resets the index, prints the DataFrame, and returns it.\n",
    "\n",
    "    Args:\n",
    "        df (pandas.DataFrame): The input DataFrame to be displayed and returned.\n",
    "\n",
    "    Returns:\n",
    "        pandas.DataFrame: The processed DataFrame ready for display.\n",
    "    \"\"\"\n",
    "    display_columns = ['team', 'Emp-id', 'type', 'desc', 'Emp-name', 'Emp-lastname', 'date']\n",
    "    result_df = df[display_columns].sort_values(by=['date', 'Emp-id'])\n",
    "    result_df.reset_index(inplace=True, drop=True)\n",
    "    print(result_df)\n",
    "    \n",
    "    return result_df"
   ]
  },
  {
   "cell_type": "markdown",
   "metadata": {},
   "source": [
    "# Execution"
   ]
  },
  {
   "cell_type": "code",
   "execution_count": 12,
   "metadata": {},
   "outputs": [
    {
     "name": "stdout",
     "output_type": "stream",
     "text": [
      "       team  Emp-id  type     desc Emp-name Emp-lastname       date\n",
      "0      TU-1       1    TU     ซ่อม        a          aaa 2020-01-01\n",
      "1      TU-1       2    TU     ซ่อม        b          bbb 2020-01-01\n",
      "2      TU-2       3    TU     ซ่อม        c          ccc 2020-01-01\n",
      "3      TU-2       4    TU     ซ่อม        d          ddd 2020-01-01\n",
      "4      DW-1       5    DW  ติดตั้ง        e          eee 2020-01-01\n",
      "..      ...     ...   ...      ...      ...          ...        ...\n",
      "115    DW-1       8    DW  ติดตั้ง        h          hhh 2020-01-10\n",
      "116    DW-2       9    DW  ติดตั้ง        I          iii 2020-01-10\n",
      "117    DW-1      10    DW  ติดตั้ง        j          jjj 2020-01-10\n",
      "118  SALE-2      11  SALE      ขาย        k          kkk 2020-01-10\n",
      "119  SALE-2      12  SALE      ขาย        l          lll 2020-01-10\n",
      "\n",
      "[120 rows x 7 columns]\n"
     ]
    }
   ],
   "source": [
    "source_employee_file_path = \"../dataset/emp.csv\"\n",
    "source_team_file_path = \"../dataset/team.csv\"\n",
    "source_team_history_file_path = \"../dataset/team-history.csv\"\n",
    "target_file_location = \"../dataset/result-employee-team-by-date.csv\"\n",
    "start_date = \"2020-01-01\"\n",
    "end_date = \"2020-01-10\"\n",
    "\n",
    "# read source data\n",
    "employee_df = get_employee_data(source_path=source_employee_file_path)\n",
    "team_df = get_team_data(source_path=source_team_file_path)\n",
    "team_history_df = get_team_history_data(source_path=source_team_history_file_path)\n",
    "date_df = get_calendar_df(start_date=start_date, end_date=end_date)\n",
    "\n",
    "# cleaning\n",
    "cleaned_team_history_df = fill_na_history_df(history_df=team_history_df)\n",
    "\n",
    "# transform\n",
    "joined_df = join_employee_team_history_df(employee_df=employee_df, team_df=team_df, team_history_df=cleaned_team_history_df)\n",
    "cross_join_date_df = cross_join_date(df=joined_df, date_df=date_df)\n",
    "filtered_df = filter_date_between_start_end(df=cross_join_date_df)\n",
    "\n",
    "# display\n",
    "result_df = display_result_df(df=filtered_df)\n",
    "\n",
    "# save result\n",
    "# result_df.to_csv(target_file_location, header=True)"
   ]
  }
 ],
 "metadata": {
  "kernelspec": {
   "display_name": "Python 3",
   "language": "python",
   "name": "python3"
  },
  "language_info": {
   "codemirror_mode": {
    "name": "ipython",
    "version": 3
   },
   "file_extension": ".py",
   "mimetype": "text/x-python",
   "name": "python",
   "nbconvert_exporter": "python",
   "pygments_lexer": "ipython3",
   "version": "3.12.3"
  }
 },
 "nbformat": 4,
 "nbformat_minor": 2
}
