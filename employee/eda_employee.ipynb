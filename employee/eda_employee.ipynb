{
 "cells": [
  {
   "cell_type": "code",
   "execution_count": 17,
   "metadata": {},
   "outputs": [],
   "source": [
    "from datetime import datetime\n",
    "import pandas\n"
   ]
  },
  {
   "cell_type": "markdown",
   "metadata": {},
   "source": [
    "# Prepare"
   ]
  },
  {
   "cell_type": "code",
   "execution_count": 142,
   "metadata": {},
   "outputs": [],
   "source": [
    "def get_employee_data(source_path:str) -> pandas.DataFrame:\n",
    "  schema = {\n",
    "    'Emp-id': int,\n",
    "    'Emp-name': str,\n",
    "    'Emp-lastname': str\n",
    "  }\n",
    "  employee_df = pandas.read_csv(filepath_or_buffer=source_path, dtype=schema)\n",
    "  return employee_df"
   ]
  },
  {
   "cell_type": "code",
   "execution_count": 143,
   "metadata": {},
   "outputs": [],
   "source": [
    "def get_team_data(source_path:str) -> pandas.DataFrame:\n",
    "  schema = {\n",
    "    'name': str,\n",
    "    'type': str,\n",
    "    'desc': str\n",
    "  }\n",
    "  team_df = pandas.read_csv(filepath_or_buffer=source_path, dtype=schema)\n",
    "\n",
    "  return team_df"
   ]
  },
  {
   "cell_type": "code",
   "execution_count": 144,
   "metadata": {},
   "outputs": [],
   "source": [
    "def get_team_history_data(source_path:str) -> pandas.DataFrame:\n",
    "\n",
    "  schema = {\n",
    "    'Start-date': str,\n",
    "    'End-date': str,\n",
    "    'type': str,\n",
    "    'team': str,\n",
    "    'Emp-id': int\n",
    "  }\n",
    "  date_columns = ['Start-date', 'End-date']\n",
    "  team_history_df = pandas.read_csv(filepath_or_buffer=source_path, dtype=schema)\n",
    "\n",
    "  for date_column in date_columns:\n",
    "    team_history_df[date_column] = pandas.to_datetime(team_history_df[date_column], format='%Y-%m-%d')\n",
    "\n",
    "  return team_history_df"
   ]
  },
  {
   "cell_type": "code",
   "execution_count": 161,
   "metadata": {},
   "outputs": [],
   "source": [
    "def get_calendar_df(start_date:str, end_date:str) -> pandas.DataFrame:\n",
    "  start_date = datetime.strptime(start_date, \"%Y-%m-%d\")\n",
    "  end_date = datetime.strptime(end_date, \"%Y-%m-%d\")\n",
    "  date_range = pandas.date_range(start_date, end_date)\n",
    "  date_df = pandas.DataFrame({'date': date_range})\n",
    "\n",
    "  return date_df"
   ]
  },
  {
   "cell_type": "code",
   "execution_count": 157,
   "metadata": {},
   "outputs": [],
   "source": [
    "def fill_na_history_df(history_df: pandas.DataFrame) -> pandas.DataFrame:\n",
    "  cleaned_history_df = history_df.sort_values(by=['Emp-id', 'Start-date'])\n",
    "  cleaned_history_df['End-date'] = cleaned_history_df['End-date'].fillna(cleaned_history_df['Start-date'].shift(-1) + pandas.Timedelta(days=-1))\n",
    "  return cleaned_history_df"
   ]
  },
  {
   "cell_type": "code",
   "execution_count": 167,
   "metadata": {},
   "outputs": [],
   "source": [
    "def join_employee_team_history_df(employee_df: pandas.DataFrame, team_df: pandas.DataFrame, team_history_df: pandas.DataFrame) -> pandas.DataFrame:\n",
    "\n",
    "  detail_team_history_df = team_history_df.merge(team_df, left_on=\"team\", right_on=\"name\")\n",
    "  employee_team_history = detail_team_history_df.merge(employee_df, left_on=\"Emp-id\", right_on=\"Emp-id\")\n",
    "\n",
    "  return employee_team_history\n"
   ]
  },
  {
   "cell_type": "code",
   "execution_count": 168,
   "metadata": {},
   "outputs": [],
   "source": [
    "def cross_join_date(df: pandas.DataFrame, date_df: pandas.DataFrame) -> pandas.DataFrame:\n",
    "  df['key'] = 0\n",
    "  date_df['key'] = 0\n",
    "  cross_date_df = date_df.merge(df, how='outer', on='key').drop(columns='key', axis=1)\n",
    "  return cross_date_df"
   ]
  },
  {
   "cell_type": "code",
   "execution_count": 169,
   "metadata": {},
   "outputs": [],
   "source": [
    "def filter_date_between_start_end(df: pandas.DataFrame):\n",
    "  filtered_df = df[(df['date'] >= df['Start-date']) & (df['date'] <= df['End-date'])]\n",
    "  return filtered_df"
   ]
  },
  {
   "cell_type": "code",
   "execution_count": 170,
   "metadata": {},
   "outputs": [],
   "source": [
    "def display_result_df(df: pandas.DataFrame):\n",
    "  display_columns = ['team', 'Emp-id', 'type', 'desc', 'Emp-name', 'Emp-lastname', 'date', 'Start-date', 'End-date']\n",
    "\n",
    "  result_df = df[display_columns].sort_values(by=['date', 'Emp-id'])\n",
    "  return result_df"
   ]
  },
  {
   "cell_type": "code",
   "execution_count": 140,
   "metadata": {},
   "outputs": [
    {
     "name": "stdout",
     "output_type": "stream",
     "text": [
      "       team  Emp-id  type     desc Emp-name Emp-lastname       date  \\\n",
      "0      TU-1       1    TU     ซ่อม        a          aaa 2020-01-01   \n",
      "4      TU-1       2    TU     ซ่อม        b          bbb 2020-01-01   \n",
      "8      TU-2       3    TU     ซ่อม        c          ccc 2020-01-01   \n",
      "12     TU-2       4    TU     ซ่อม        d          ddd 2020-01-01   \n",
      "16     DW-1       5    DW  ติดตั้ง        e          eee 2020-01-01   \n",
      "..      ...     ...   ...      ...      ...          ...        ...   \n",
      "463    DW-1       8    DW  ติดตั้ง        h          hhh 2020-01-10   \n",
      "467    DW-2       9    DW  ติดตั้ง        I          iii 2020-01-10   \n",
      "471    DW-1      10    DW  ติดตั้ง        j          jjj 2020-01-10   \n",
      "475  SALE-2      11  SALE      ขาย        k          kkk 2020-01-10   \n",
      "479  SALE-2      12  SALE      ขาย        l          lll 2020-01-10   \n",
      "\n",
      "    Start-date   End-date  \n",
      "0   2020-01-01 2020-01-02  \n",
      "4   2020-01-01 2020-01-02  \n",
      "8   2020-01-01 2020-01-02  \n",
      "12  2020-01-01 2020-01-02  \n",
      "16  2020-01-01 2020-01-02  \n",
      "..         ...        ...  \n",
      "463 2020-01-08 2020-01-10  \n",
      "467 2020-01-08 2020-01-10  \n",
      "471 2020-01-08 2020-01-10  \n",
      "475 2020-01-07 2020-01-10  \n",
      "479 2020-01-07 2020-01-10  \n",
      "\n",
      "[120 rows x 9 columns]\n"
     ]
    }
   ],
   "source": [
    "sorted_employee_team_history['key'] = 0\n",
    "date_df['key'] = 0\n",
    "cross_date_df = date_df.merge(sorted_employee_team_history, how='outer', on='key').drop(columns='key', axis=1)\n",
    "\n",
    "filtered_df = cross_date_df\n",
    "\n",
    "filtered_df = filtered_df[(filtered_df['date'] >= filtered_df['Start-date']) & (filtered_df['date'] <= filtered_df['End-date'])]\n",
    "display_columns = ['team', 'Emp-id', 'type', 'desc', 'Emp-name', 'Emp-lastname', 'date', 'Start-date', 'End-date']\n",
    "\n",
    "result_df = filtered_df[display_columns].sort_values(by=['date', 'Emp-id'])\n",
    "# print(cross_date_df)\n",
    "print(result_df)\n",
    "\n"
   ]
  },
  {
   "cell_type": "code",
   "execution_count": null,
   "metadata": {},
   "outputs": [],
   "source": []
  },
  {
   "cell_type": "code",
   "execution_count": null,
   "metadata": {},
   "outputs": [],
   "source": []
  },
  {
   "cell_type": "code",
   "execution_count": 141,
   "metadata": {},
   "outputs": [],
   "source": []
  },
  {
   "cell_type": "code",
   "execution_count": null,
   "metadata": {},
   "outputs": [],
   "source": []
  },
  {
   "cell_type": "markdown",
   "metadata": {},
   "source": [
    "# Execution"
   ]
  },
  {
   "cell_type": "code",
   "execution_count": 173,
   "metadata": {},
   "outputs": [],
   "source": [
    "source_employee_file_path = \"../dataset/emp.csv\"\n",
    "source_team_file_path = \"../dataset/team.csv\"\n",
    "source_team_history_file_path = \"../dataset/team-history.csv\"\n",
    "target_file_location = \"../dataset/result-employee-team-by-date.csv\"\n",
    "start_date = \"2020-01-01\"\n",
    "end_date = \"2020-01-10\"\n",
    "\n",
    "\n",
    "# read source data\n",
    "employee_df = get_employee_data(source_path=source_employee_file_path)\n",
    "team_df = get_team_data(source_path=source_team_file_path)\n",
    "team_history_df = get_team_history_data(source_path=source_team_history_file_path)\n",
    "date_df = get_calendar_df(start_date=start_date, end_date=end_date)\n",
    "\n",
    "# cleaning\n",
    "cleaned_team_history_df = fill_na_history_df(history_df=team_history_df)\n",
    "\n",
    "# transform\n",
    "joined_df = join_employee_team_history_df(employee_df=employee_df, team_df=team_df, team_history_df=cleaned_team_history_df)\n",
    "cross_join_date_df = cross_join_date(df=joined_df, date_df=date_df)\n",
    "filtered_df = filter_date_between_start_end(df=cross_date_df)\n",
    "\n",
    "# display\n",
    "result_df = display_result_df(df=filtered_df)\n",
    "\n",
    "# save result\n",
    "result_df.to_csv(target_file_location, header=True)"
   ]
  },
  {
   "cell_type": "code",
   "execution_count": null,
   "metadata": {},
   "outputs": [],
   "source": []
  }
 ],
 "metadata": {
  "kernelspec": {
   "display_name": "Python 3",
   "language": "python",
   "name": "python3"
  },
  "language_info": {
   "codemirror_mode": {
    "name": "ipython",
    "version": 3
   },
   "file_extension": ".py",
   "mimetype": "text/x-python",
   "name": "python",
   "nbconvert_exporter": "python",
   "pygments_lexer": "ipython3",
   "version": "3.12.3"
  }
 },
 "nbformat": 4,
 "nbformat_minor": 2
}
